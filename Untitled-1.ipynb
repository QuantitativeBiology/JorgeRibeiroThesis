{
 "cells": [
  {
   "cell_type": "code",
   "execution_count": null,
   "metadata": {},
   "outputs": [
    {
     "ename": "",
     "evalue": "",
     "output_type": "error",
     "traceback": [
      "\u001b[1;31mRunning cells with '/usr/bin/python3' requires the ipykernel package.\n",
      "\u001b[1;31mRun the following command to install 'ipykernel' into the Python environment. \n",
      "\u001b[1;31mCommand: '/usr/bin/python3 -m pip install ipykernel -U --user --force-reinstall'"
     ]
    }
   ],
   "source": [
    "import pandas as pd \n",
    "import numpy as np "
   ]
  },
  {
   "cell_type": "code",
   "execution_count": null,
   "metadata": {},
   "outputs": [],
   "source": [
    "#load dataset of transcriptomics\n",
    "df_transcriptomics = pd.read_csv('/data/benchmarks/clines/transcriptomics.csv')\n",
    "\n",
    "#load proteomics dataset\n",
    "df_proteomics= pd.read_csv('/data/benchmarks/clines/proteomics.csv')"
   ]
  },
  {
   "cell_type": "code",
   "execution_count": null,
   "metadata": {},
   "outputs": [],
   "source": [
    "#transform dataset in a long formart and sort the values\n",
    "df_t_long= pd.melt(df_transcriptomics, id_vars=df_transcriptomics.columns[0], var_name= 'SIDM', value_name='transcript values')\n",
    "df_t_long= df_t_long.sort_values(by=df_t_long.columns[0])\n",
    "\n",
    "df_p_long= pd.melt(df_proteomics, id_vars=df_proteomics.columns[0], var_name='SIDM', value_name='protein values')\n",
    "df_p_long= df_p_long.sort_values(by=df_p_long.columns[0])"
   ]
  },
  {
   "cell_type": "code",
   "execution_count": null,
   "metadata": {},
   "outputs": [],
   "source": [
    "#search in datasets for missingness of such protein, add one more column as a boolean variable to identify missingness\n",
    "\n",
    "\n",
    "\n",
    "# order df from least to most expressed gene\n",
    "\n",
    "#graph with obtained data."
   ]
  }
 ],
 "metadata": {
  "kernelspec": {
   "display_name": "Python 3",
   "language": "python",
   "name": "python3"
  },
  "language_info": {
   "name": "python",
   "version": "3.9.2"
  },
  "orig_nbformat": 4
 },
 "nbformat": 4,
 "nbformat_minor": 2
}
